{
 "cells": [
  {
   "cell_type": "markdown",
   "metadata": {},
   "source": [
    "# Notebook to illustrate the CANUCS SC#2 pipeline\n",
    "\n",
    "**CANUCS SC#2:** Probing the low-mass SFR-M$_*$ correlation. This is designed to work with 4 different data-inputs, ranging from the simplest case of photometry to the hardest case of spatially resolved spectrophotometry.\n",
    "\n",
    "This notebook has been written to be a modular template that can be adapted to the other science cases.\n",
    "\n",
    "- Created: 7 Feb 2021\n",
    "- Last Modified: 10 Feb 2021\n",
    "- Last Modified by: KIyer\n",
    "- Git repo: `N/A`\n",
    "- Branch: `N/A`\n",
    "- Module Dependencies: Photometry, Spectroscopy, Lensing, Morphology"
   ]
  },
  {
   "cell_type": "code",
   "execution_count": null,
   "metadata": {},
   "outputs": [],
   "source": [
    "# Import packages\n",
    "import numpy as np\n",
    "import canucs_analysis as canucs\n",
    "\n",
    "# Print package versions\n",
    "print('using versions:')\n",
    "print('numpy: ',np.__version__)\n",
    "print('canucs_analysis: ',canucs.__version__)"
   ]
  },
  {
   "cell_type": "markdown",
   "metadata": {},
   "source": [
    "# Import the (spectro)photometry to be fit"
   ]
  },
  {
   "cell_type": "code",
   "execution_count": null,
   "metadata": {},
   "outputs": [],
   "source": [
    "phot_catalog = canucs.photometry.generate_photometry(mosaic, \n",
    "                                                     extraction_params, \n",
    "                                                     psf_params, \n",
    "                                                     cube = False, \n",
    "                                                     cube_params = [])\n",
    "\n",
    "spec_catalog = canucs.spectroscopy.grizli(magic)"
   ]
  },
  {
   "cell_type": "code",
   "execution_count": null,
   "metadata": {},
   "outputs": [],
   "source": [
    "photometry, errors, idpz = canucs.photometry.load_photometry(phot_catalog_filename, cube = False)\n",
    "spectra, errors, idsz = canucs.spectroscopy.load_spectra(phot_catalog_filename, cube = False)\n",
    "\n",
    "# idpz and idsz contain RA, DEC and other identifiers to help match the spectrophotometry\n",
    "sed_catalog = canucs.create_catalog(photometry, errors, idpz, spectra, errors, idsz)"
   ]
  },
  {
   "cell_type": "markdown",
   "metadata": {},
   "source": [
    "# Initialize the fitter and do any preprocessing necessary"
   ]
  },
  {
   "cell_type": "code",
   "execution_count": null,
   "metadata": {},
   "outputs": [],
   "source": [
    "# model_params - dict[SPS model, SFH(t), Z(t), IMF, Dust, IGM, fitting code or sampling technique, convergence_criterion, parallelize]\n",
    "# prior_params - dict[redshift_range, SFH_params, Z(t)_params, dust_params, ] \n",
    "# dixed_params - dict(IGM = madau, IMF = chabrier, SSP = BC03 or MILES/MIST or BPASS)\n",
    "\n",
    "fitter = canucs.sedfit.initiate_fitter(model_params, \n",
    "                                       fixed_params, \n",
    "                                       phot = True, \n",
    "                                       spec = True, \n",
    "                                       fitter_name, \n",
    "                                       cube = False)\n",
    "\n",
    "priors = canucs.sedfit.initiate_priors(prior_params)\n",
    "\n",
    "# generates atlas if required by method for computational speedup\n",
    "canucs.sedfit.preprocessing(N_atlas, N_cores)\n",
    "\n",
    "#---------- within preprocessing, there are modules to generate SEDs/spectra from SPS codes --------\n",
    "# prior_sample = priors.sample(random_seed)\n",
    "# spec = canucs.sedfit.generate_spectra(spectra_params, units)\n",
    "# sed = sedfit.multiply_by_filters(spec, redshift, filter_list, units)\n",
    "#---------------------------------------------------------------------------------------------------"
   ]
  },
  {
   "cell_type": "markdown",
   "metadata": {},
   "source": [
    "# Fit the catalog"
   ]
  },
  {
   "cell_type": "code",
   "execution_count": null,
   "metadata": {},
   "outputs": [],
   "source": [
    "# the heirarchical flag decides whether the fits occur simultaneously or one after the other.\n",
    "canucs.sedfit.fit_catalog(sed_catalog, fitter, priors, fit_params, heirarchical = False, store = storepath)\n",
    "\n",
    "#---------- within fit_catalog, there are modules to -------------------\n",
    "# --------- run fits on individual objects and store posteriors --------\n",
    "# posteriors = canucs.sedfit.fit_photometry(sed_obs, sed_err, fitter, priors, fit_args)\n",
    "# posteriors = canucs.sedfit.fit_spectra(sed_obs, sed_err, fitter, priors, fit_args)\n",
    "# \n",
    "#---------------------------------------------------------------------"
   ]
  },
  {
   "cell_type": "markdown",
   "metadata": {},
   "source": [
    "# Science after fitting\n",
    "\n",
    "- load outputs\n",
    "- calculate slope, norm, scatter of SFR-M* correlation\n",
    "- make completeness corrections"
   ]
  },
  {
   "cell_type": "code",
   "execution_count": null,
   "metadata": {},
   "outputs": [],
   "source": []
  }
 ],
 "metadata": {
  "kernelspec": {
   "display_name": "Python 3",
   "language": "python",
   "name": "python3"
  },
  "language_info": {
   "codemirror_mode": {
    "name": "ipython",
    "version": 3
   },
   "file_extension": ".py",
   "mimetype": "text/x-python",
   "name": "python",
   "nbconvert_exporter": "python",
   "pygments_lexer": "ipython3",
   "version": "3.7.3"
  }
 },
 "nbformat": 4,
 "nbformat_minor": 2
}
